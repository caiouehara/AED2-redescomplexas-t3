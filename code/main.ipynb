{
 "cells": [
  {
   "cell_type": "markdown",
   "metadata": {},
   "source": [
    "## Trabalho 3 - Redes complexas\n",
    "# Algoritmo e estrutura de dados 2\n",
    "\n",
    "Trabalho realizado por : \n",
    "Caio Uehara Martins\n",
    "nUSP 13672022\n",
    "\n",
    "Professor: \n",
    "EVANDROE.S.RUIZ\n",
    "DCM, FFCLRP\n",
    "\n",
    "Dataset:\n",
    "https://snap.stanford.edu/data/feather-deezer-social.html"
   ]
  },
  {
   "cell_type": "code",
   "execution_count": null,
   "metadata": {},
   "outputs": [],
   "source": []
  }
 ],
 "metadata": {
  "kernelspec": {
   "display_name": "Python 3",
   "language": "python",
   "name": "python3"
  },
  "language_info": {
   "name": "python",
   "version": "3.12.0"
  }
 },
 "nbformat": 4,
 "nbformat_minor": 2
}
